{
 "cells": [
  {
   "cell_type": "markdown",
   "id": "6cf0d701-2589-4695-b0bc-c41bba42abe4",
   "metadata": {
    "tags": []
   },
   "source": [
    "# Flight Price Prediction Machine Learning Model"
   ]
  },
  {
   "cell_type": "markdown",
   "id": "ab48a194-fdfd-4693-8152-ba8d9a804683",
   "metadata": {
    "tags": []
   },
   "source": [
    "## Exploring Data Types"
   ]
  },
  {
   "cell_type": "code",
   "execution_count": 1,
   "id": "01b140a7-68ca-432b-a187-0c1c306364e1",
   "metadata": {
    "tags": []
   },
   "outputs": [],
   "source": [
    "import pandas as pd\n",
    "\n",
    "df = pd.read_csv('flight price prediction/Clean_Dataset.csv')"
   ]
  },
  {
   "cell_type": "code",
   "execution_count": 2,
   "id": "e6f14c42-490d-40af-adb9-81647705905e",
   "metadata": {
    "tags": []
   },
   "outputs": [
    {
     "data": {
      "text/html": [
       "<div>\n",
       "<style scoped>\n",
       "    .dataframe tbody tr th:only-of-type {\n",
       "        vertical-align: middle;\n",
       "    }\n",
       "\n",
       "    .dataframe tbody tr th {\n",
       "        vertical-align: top;\n",
       "    }\n",
       "\n",
       "    .dataframe thead th {\n",
       "        text-align: right;\n",
       "    }\n",
       "</style>\n",
       "<table border=\"1\" class=\"dataframe\">\n",
       "  <thead>\n",
       "    <tr style=\"text-align: right;\">\n",
       "      <th></th>\n",
       "      <th>Unnamed: 0</th>\n",
       "      <th>airline</th>\n",
       "      <th>flight</th>\n",
       "      <th>source_city</th>\n",
       "      <th>departure_time</th>\n",
       "      <th>stops</th>\n",
       "      <th>arrival_time</th>\n",
       "      <th>destination_city</th>\n",
       "      <th>class</th>\n",
       "      <th>duration</th>\n",
       "      <th>days_left</th>\n",
       "      <th>price</th>\n",
       "    </tr>\n",
       "  </thead>\n",
       "  <tbody>\n",
       "    <tr>\n",
       "      <th>0</th>\n",
       "      <td>0</td>\n",
       "      <td>SpiceJet</td>\n",
       "      <td>SG-8709</td>\n",
       "      <td>Delhi</td>\n",
       "      <td>Evening</td>\n",
       "      <td>zero</td>\n",
       "      <td>Night</td>\n",
       "      <td>Mumbai</td>\n",
       "      <td>Economy</td>\n",
       "      <td>2.17</td>\n",
       "      <td>1</td>\n",
       "      <td>5953</td>\n",
       "    </tr>\n",
       "    <tr>\n",
       "      <th>1</th>\n",
       "      <td>1</td>\n",
       "      <td>SpiceJet</td>\n",
       "      <td>SG-8157</td>\n",
       "      <td>Delhi</td>\n",
       "      <td>Early_Morning</td>\n",
       "      <td>zero</td>\n",
       "      <td>Morning</td>\n",
       "      <td>Mumbai</td>\n",
       "      <td>Economy</td>\n",
       "      <td>2.33</td>\n",
       "      <td>1</td>\n",
       "      <td>5953</td>\n",
       "    </tr>\n",
       "    <tr>\n",
       "      <th>2</th>\n",
       "      <td>2</td>\n",
       "      <td>AirAsia</td>\n",
       "      <td>I5-764</td>\n",
       "      <td>Delhi</td>\n",
       "      <td>Early_Morning</td>\n",
       "      <td>zero</td>\n",
       "      <td>Early_Morning</td>\n",
       "      <td>Mumbai</td>\n",
       "      <td>Economy</td>\n",
       "      <td>2.17</td>\n",
       "      <td>1</td>\n",
       "      <td>5956</td>\n",
       "    </tr>\n",
       "    <tr>\n",
       "      <th>3</th>\n",
       "      <td>3</td>\n",
       "      <td>Vistara</td>\n",
       "      <td>UK-995</td>\n",
       "      <td>Delhi</td>\n",
       "      <td>Morning</td>\n",
       "      <td>zero</td>\n",
       "      <td>Afternoon</td>\n",
       "      <td>Mumbai</td>\n",
       "      <td>Economy</td>\n",
       "      <td>2.25</td>\n",
       "      <td>1</td>\n",
       "      <td>5955</td>\n",
       "    </tr>\n",
       "    <tr>\n",
       "      <th>4</th>\n",
       "      <td>4</td>\n",
       "      <td>Vistara</td>\n",
       "      <td>UK-963</td>\n",
       "      <td>Delhi</td>\n",
       "      <td>Morning</td>\n",
       "      <td>zero</td>\n",
       "      <td>Morning</td>\n",
       "      <td>Mumbai</td>\n",
       "      <td>Economy</td>\n",
       "      <td>2.33</td>\n",
       "      <td>1</td>\n",
       "      <td>5955</td>\n",
       "    </tr>\n",
       "    <tr>\n",
       "      <th>...</th>\n",
       "      <td>...</td>\n",
       "      <td>...</td>\n",
       "      <td>...</td>\n",
       "      <td>...</td>\n",
       "      <td>...</td>\n",
       "      <td>...</td>\n",
       "      <td>...</td>\n",
       "      <td>...</td>\n",
       "      <td>...</td>\n",
       "      <td>...</td>\n",
       "      <td>...</td>\n",
       "      <td>...</td>\n",
       "    </tr>\n",
       "    <tr>\n",
       "      <th>300148</th>\n",
       "      <td>300148</td>\n",
       "      <td>Vistara</td>\n",
       "      <td>UK-822</td>\n",
       "      <td>Chennai</td>\n",
       "      <td>Morning</td>\n",
       "      <td>one</td>\n",
       "      <td>Evening</td>\n",
       "      <td>Hyderabad</td>\n",
       "      <td>Business</td>\n",
       "      <td>10.08</td>\n",
       "      <td>49</td>\n",
       "      <td>69265</td>\n",
       "    </tr>\n",
       "    <tr>\n",
       "      <th>300149</th>\n",
       "      <td>300149</td>\n",
       "      <td>Vistara</td>\n",
       "      <td>UK-826</td>\n",
       "      <td>Chennai</td>\n",
       "      <td>Afternoon</td>\n",
       "      <td>one</td>\n",
       "      <td>Night</td>\n",
       "      <td>Hyderabad</td>\n",
       "      <td>Business</td>\n",
       "      <td>10.42</td>\n",
       "      <td>49</td>\n",
       "      <td>77105</td>\n",
       "    </tr>\n",
       "    <tr>\n",
       "      <th>300150</th>\n",
       "      <td>300150</td>\n",
       "      <td>Vistara</td>\n",
       "      <td>UK-832</td>\n",
       "      <td>Chennai</td>\n",
       "      <td>Early_Morning</td>\n",
       "      <td>one</td>\n",
       "      <td>Night</td>\n",
       "      <td>Hyderabad</td>\n",
       "      <td>Business</td>\n",
       "      <td>13.83</td>\n",
       "      <td>49</td>\n",
       "      <td>79099</td>\n",
       "    </tr>\n",
       "    <tr>\n",
       "      <th>300151</th>\n",
       "      <td>300151</td>\n",
       "      <td>Vistara</td>\n",
       "      <td>UK-828</td>\n",
       "      <td>Chennai</td>\n",
       "      <td>Early_Morning</td>\n",
       "      <td>one</td>\n",
       "      <td>Evening</td>\n",
       "      <td>Hyderabad</td>\n",
       "      <td>Business</td>\n",
       "      <td>10.00</td>\n",
       "      <td>49</td>\n",
       "      <td>81585</td>\n",
       "    </tr>\n",
       "    <tr>\n",
       "      <th>300152</th>\n",
       "      <td>300152</td>\n",
       "      <td>Vistara</td>\n",
       "      <td>UK-822</td>\n",
       "      <td>Chennai</td>\n",
       "      <td>Morning</td>\n",
       "      <td>one</td>\n",
       "      <td>Evening</td>\n",
       "      <td>Hyderabad</td>\n",
       "      <td>Business</td>\n",
       "      <td>10.08</td>\n",
       "      <td>49</td>\n",
       "      <td>81585</td>\n",
       "    </tr>\n",
       "  </tbody>\n",
       "</table>\n",
       "<p>300153 rows × 12 columns</p>\n",
       "</div>"
      ],
      "text/plain": [
       "        Unnamed: 0   airline   flight source_city departure_time stops  \\\n",
       "0                0  SpiceJet  SG-8709       Delhi        Evening  zero   \n",
       "1                1  SpiceJet  SG-8157       Delhi  Early_Morning  zero   \n",
       "2                2   AirAsia   I5-764       Delhi  Early_Morning  zero   \n",
       "3                3   Vistara   UK-995       Delhi        Morning  zero   \n",
       "4                4   Vistara   UK-963       Delhi        Morning  zero   \n",
       "...            ...       ...      ...         ...            ...   ...   \n",
       "300148      300148   Vistara   UK-822     Chennai        Morning   one   \n",
       "300149      300149   Vistara   UK-826     Chennai      Afternoon   one   \n",
       "300150      300150   Vistara   UK-832     Chennai  Early_Morning   one   \n",
       "300151      300151   Vistara   UK-828     Chennai  Early_Morning   one   \n",
       "300152      300152   Vistara   UK-822     Chennai        Morning   one   \n",
       "\n",
       "         arrival_time destination_city     class  duration  days_left  price  \n",
       "0               Night           Mumbai   Economy      2.17          1   5953  \n",
       "1             Morning           Mumbai   Economy      2.33          1   5953  \n",
       "2       Early_Morning           Mumbai   Economy      2.17          1   5956  \n",
       "3           Afternoon           Mumbai   Economy      2.25          1   5955  \n",
       "4             Morning           Mumbai   Economy      2.33          1   5955  \n",
       "...               ...              ...       ...       ...        ...    ...  \n",
       "300148        Evening        Hyderabad  Business     10.08         49  69265  \n",
       "300149          Night        Hyderabad  Business     10.42         49  77105  \n",
       "300150          Night        Hyderabad  Business     13.83         49  79099  \n",
       "300151        Evening        Hyderabad  Business     10.00         49  81585  \n",
       "300152        Evening        Hyderabad  Business     10.08         49  81585  \n",
       "\n",
       "[300153 rows x 12 columns]"
      ]
     },
     "execution_count": 2,
     "metadata": {},
     "output_type": "execute_result"
    }
   ],
   "source": [
    "df"
   ]
  },
  {
   "cell_type": "code",
   "execution_count": 3,
   "id": "307eb573-3776-4b56-ac37-7acc52ec582f",
   "metadata": {
    "tags": []
   },
   "outputs": [
    {
     "data": {
      "text/plain": [
       "airline\n",
       "Vistara      127859\n",
       "Air_India     80892\n",
       "Indigo        43120\n",
       "GO_FIRST      23173\n",
       "AirAsia       16098\n",
       "SpiceJet       9011\n",
       "Name: count, dtype: int64"
      ]
     },
     "execution_count": 3,
     "metadata": {},
     "output_type": "execute_result"
    }
   ],
   "source": [
    "df.airline.value_counts() # one hot encode"
   ]
  },
  {
   "cell_type": "code",
   "execution_count": 4,
   "id": "6c63b6d0-1128-44b4-ae33-979ff1ec816e",
   "metadata": {
    "tags": []
   },
   "outputs": [
    {
     "data": {
      "text/plain": [
       "source_city\n",
       "Delhi        61343\n",
       "Mumbai       60896\n",
       "Bangalore    52061\n",
       "Kolkata      46347\n",
       "Hyderabad    40806\n",
       "Chennai      38700\n",
       "Name: count, dtype: int64"
      ]
     },
     "execution_count": 4,
     "metadata": {},
     "output_type": "execute_result"
    }
   ],
   "source": [
    "df.source_city.value_counts()"
   ]
  },
  {
   "cell_type": "code",
   "execution_count": 5,
   "id": "615c874a-3a31-4daa-bf45-69bbc0518e33",
   "metadata": {
    "tags": []
   },
   "outputs": [
    {
     "data": {
      "text/plain": [
       "destination_city\n",
       "Mumbai       59097\n",
       "Delhi        57360\n",
       "Bangalore    51068\n",
       "Kolkata      49534\n",
       "Hyderabad    42726\n",
       "Chennai      40368\n",
       "Name: count, dtype: int64"
      ]
     },
     "execution_count": 5,
     "metadata": {},
     "output_type": "execute_result"
    }
   ],
   "source": [
    "df.destination_city.value_counts()"
   ]
  },
  {
   "cell_type": "code",
   "execution_count": 6,
   "id": "8ea4a405-32ae-4706-ad23-1edc816b7591",
   "metadata": {
    "tags": []
   },
   "outputs": [
    {
     "data": {
      "text/plain": [
       "departure_time\n",
       "Morning          71146\n",
       "Early_Morning    66790\n",
       "Evening          65102\n",
       "Night            48015\n",
       "Afternoon        47794\n",
       "Late_Night        1306\n",
       "Name: count, dtype: int64"
      ]
     },
     "execution_count": 6,
     "metadata": {},
     "output_type": "execute_result"
    }
   ],
   "source": [
    "df.departure_time.value_counts()"
   ]
  },
  {
   "cell_type": "code",
   "execution_count": 11,
   "id": "7db52906-1deb-44d4-b3b5-36137a35b7e3",
   "metadata": {
    "tags": []
   },
   "outputs": [
    {
     "data": {
      "text/plain": [
       "arrival_time\n",
       "Night            91538\n",
       "Evening          78323\n",
       "Morning          62735\n",
       "Afternoon        38139\n",
       "Early_Morning    15417\n",
       "Late_Night       14001\n",
       "Name: count, dtype: int64"
      ]
     },
     "execution_count": 11,
     "metadata": {},
     "output_type": "execute_result"
    }
   ],
   "source": [
    "df.arrival_time.value_counts()"
   ]
  },
  {
   "cell_type": "code",
   "execution_count": 12,
   "id": "283ee680-5a79-4b9c-8ee5-e91f0e88147e",
   "metadata": {
    "tags": []
   },
   "outputs": [
    {
     "data": {
      "text/plain": [
       "stops\n",
       "one            250863\n",
       "zero            36004\n",
       "two_or_more     13286\n",
       "Name: count, dtype: int64"
      ]
     },
     "execution_count": 12,
     "metadata": {},
     "output_type": "execute_result"
    }
   ],
   "source": [
    "df.stops.value_counts()"
   ]
  },
  {
   "cell_type": "code",
   "execution_count": 14,
   "id": "6eb6d319-684b-4a5c-9a37-2adefc76d762",
   "metadata": {
    "tags": []
   },
   "outputs": [
    {
     "data": {
      "text/plain": [
       "class\n",
       "Economy     206666\n",
       "Business     93487\n",
       "Name: count, dtype: int64"
      ]
     },
     "execution_count": 14,
     "metadata": {},
     "output_type": "execute_result"
    }
   ],
   "source": [
    "df['class'].value_counts() # make a 0 or 1 feature"
   ]
  },
  {
   "cell_type": "code",
   "execution_count": 16,
   "id": "2483fe4b-5688-4074-9cbb-986f82a03d46",
   "metadata": {
    "tags": []
   },
   "outputs": [
    {
     "data": {
      "text/plain": [
       "0.83"
      ]
     },
     "execution_count": 16,
     "metadata": {},
     "output_type": "execute_result"
    }
   ],
   "source": [
    "df.duration.min() # shortest flight"
   ]
  },
  {
   "cell_type": "code",
   "execution_count": 17,
   "id": "ceb30053-92b2-4957-9d0e-73ef04890b09",
   "metadata": {
    "tags": []
   },
   "outputs": [
    {
     "data": {
      "text/plain": [
       "49.83"
      ]
     },
     "execution_count": 17,
     "metadata": {},
     "output_type": "execute_result"
    }
   ],
   "source": [
    "df.duration.max() # longest flight"
   ]
  },
  {
   "cell_type": "code",
   "execution_count": 18,
   "id": "abf790cc-a13d-484c-acb7-32863de24552",
   "metadata": {
    "tags": []
   },
   "outputs": [
    {
     "data": {
      "text/plain": [
       "11.25"
      ]
     },
     "execution_count": 18,
     "metadata": {},
     "output_type": "execute_result"
    }
   ],
   "source": [
    "df.duration.median() # avg flight"
   ]
  },
  {
   "cell_type": "markdown",
   "id": "2a2fd634-8f06-4797-9bd0-24a50cfc3187",
   "metadata": {
    "tags": []
   },
   "source": [
    "### Final Data Types\n",
    "airline: one hot encode  \n",
    "source_city: one hot encode  \n",
    "departure_time: one hot encode  \n",
    "arrival_time: one hot encode  \n",
    "destination_city: one hot encode\n",
    "stops: numerical (0-2)  \n",
    "class: binary (0-1)  \n",
    "duration: leave as is (num)  \n",
    "days_left: leave as is (num)  \n",
    "price: leave as is (num)  "
   ]
  },
  {
   "cell_type": "markdown",
   "id": "2ddc46ad-624f-43e5-a670-8e6bd9c600a2",
   "metadata": {},
   "source": [
    "## Preprocessing Data"
   ]
  },
  {
   "cell_type": "code",
   "execution_count": 7,
   "id": "685e509e-a8cd-4fc2-98eb-8ab2c7917ffd",
   "metadata": {
    "tags": []
   },
   "outputs": [],
   "source": [
    "df = df.drop('Unnamed: 0', axis=1)\n",
    "df = df.drop('flight', axis=1)\n",
    "\n",
    "df['class'] = df['class'].apply(lambda x: 1 if x == 'Business' else 0)"
   ]
  },
  {
   "cell_type": "code",
   "execution_count": 8,
   "id": "0cef7722-c46a-4a5a-ad24-6e86c14b991b",
   "metadata": {
    "tags": []
   },
   "outputs": [],
   "source": [
    "df.stops = pd.factorize(df.stops)[0]"
   ]
  },
  {
   "cell_type": "code",
   "execution_count": 9,
   "id": "20654e8e-2e7b-43cb-a8cc-32fee115e4c9",
   "metadata": {
    "tags": []
   },
   "outputs": [],
   "source": [
    "df = df.join(pd.get_dummies(df.airline, prefix='airline')).drop('airline', axis=1)\n",
    "df = df.join(pd.get_dummies(df.source_city, prefix='source')).drop('source_city', axis=1)\n",
    "df = df.join(pd.get_dummies(df.destination_city, prefix='dest')).drop('destination_city', axis=1)\n",
    "df = df.join(pd.get_dummies(df.arrival_time, prefix='arrival')).drop('arrival_time', axis=1)\n",
    "df = df.join(pd.get_dummies(df.departure_time, prefix='departure')).drop('departure_time', axis=1)"
   ]
  },
  {
   "cell_type": "markdown",
   "id": "c979327c-c920-486c-aa58-1f5b5878710c",
   "metadata": {},
   "source": [
    "I dropped the two unused categories, unnamed and flight, and one hot encoded airline, source city, destination city, arrival time, and departure time. I converted the class as 1 for business class and 0 for economy. I factorized the stops from zero, one, two or more, to becoming numerical (1, 2, or 3)."
   ]
  },
  {
   "cell_type": "code",
   "execution_count": 10,
   "id": "eaf374ae-868f-4271-b133-404f12190ddd",
   "metadata": {
    "tags": []
   },
   "outputs": [
    {
     "data": {
      "text/html": [
       "<div>\n",
       "<style scoped>\n",
       "    .dataframe tbody tr th:only-of-type {\n",
       "        vertical-align: middle;\n",
       "    }\n",
       "\n",
       "    .dataframe tbody tr th {\n",
       "        vertical-align: top;\n",
       "    }\n",
       "\n",
       "    .dataframe thead th {\n",
       "        text-align: right;\n",
       "    }\n",
       "</style>\n",
       "<table border=\"1\" class=\"dataframe\">\n",
       "  <thead>\n",
       "    <tr style=\"text-align: right;\">\n",
       "      <th></th>\n",
       "      <th>stops</th>\n",
       "      <th>class</th>\n",
       "      <th>duration</th>\n",
       "      <th>days_left</th>\n",
       "      <th>price</th>\n",
       "      <th>airline_AirAsia</th>\n",
       "      <th>airline_Air_India</th>\n",
       "      <th>airline_GO_FIRST</th>\n",
       "      <th>airline_Indigo</th>\n",
       "      <th>airline_SpiceJet</th>\n",
       "      <th>...</th>\n",
       "      <th>arrival_Evening</th>\n",
       "      <th>arrival_Late_Night</th>\n",
       "      <th>arrival_Morning</th>\n",
       "      <th>arrival_Night</th>\n",
       "      <th>departure_Afternoon</th>\n",
       "      <th>departure_Early_Morning</th>\n",
       "      <th>departure_Evening</th>\n",
       "      <th>departure_Late_Night</th>\n",
       "      <th>departure_Morning</th>\n",
       "      <th>departure_Night</th>\n",
       "    </tr>\n",
       "  </thead>\n",
       "  <tbody>\n",
       "    <tr>\n",
       "      <th>0</th>\n",
       "      <td>0</td>\n",
       "      <td>0</td>\n",
       "      <td>2.17</td>\n",
       "      <td>1</td>\n",
       "      <td>5953</td>\n",
       "      <td>False</td>\n",
       "      <td>False</td>\n",
       "      <td>False</td>\n",
       "      <td>False</td>\n",
       "      <td>True</td>\n",
       "      <td>...</td>\n",
       "      <td>False</td>\n",
       "      <td>False</td>\n",
       "      <td>False</td>\n",
       "      <td>True</td>\n",
       "      <td>False</td>\n",
       "      <td>False</td>\n",
       "      <td>True</td>\n",
       "      <td>False</td>\n",
       "      <td>False</td>\n",
       "      <td>False</td>\n",
       "    </tr>\n",
       "    <tr>\n",
       "      <th>1</th>\n",
       "      <td>0</td>\n",
       "      <td>0</td>\n",
       "      <td>2.33</td>\n",
       "      <td>1</td>\n",
       "      <td>5953</td>\n",
       "      <td>False</td>\n",
       "      <td>False</td>\n",
       "      <td>False</td>\n",
       "      <td>False</td>\n",
       "      <td>True</td>\n",
       "      <td>...</td>\n",
       "      <td>False</td>\n",
       "      <td>False</td>\n",
       "      <td>True</td>\n",
       "      <td>False</td>\n",
       "      <td>False</td>\n",
       "      <td>True</td>\n",
       "      <td>False</td>\n",
       "      <td>False</td>\n",
       "      <td>False</td>\n",
       "      <td>False</td>\n",
       "    </tr>\n",
       "    <tr>\n",
       "      <th>2</th>\n",
       "      <td>0</td>\n",
       "      <td>0</td>\n",
       "      <td>2.17</td>\n",
       "      <td>1</td>\n",
       "      <td>5956</td>\n",
       "      <td>True</td>\n",
       "      <td>False</td>\n",
       "      <td>False</td>\n",
       "      <td>False</td>\n",
       "      <td>False</td>\n",
       "      <td>...</td>\n",
       "      <td>False</td>\n",
       "      <td>False</td>\n",
       "      <td>False</td>\n",
       "      <td>False</td>\n",
       "      <td>False</td>\n",
       "      <td>True</td>\n",
       "      <td>False</td>\n",
       "      <td>False</td>\n",
       "      <td>False</td>\n",
       "      <td>False</td>\n",
       "    </tr>\n",
       "    <tr>\n",
       "      <th>3</th>\n",
       "      <td>0</td>\n",
       "      <td>0</td>\n",
       "      <td>2.25</td>\n",
       "      <td>1</td>\n",
       "      <td>5955</td>\n",
       "      <td>False</td>\n",
       "      <td>False</td>\n",
       "      <td>False</td>\n",
       "      <td>False</td>\n",
       "      <td>False</td>\n",
       "      <td>...</td>\n",
       "      <td>False</td>\n",
       "      <td>False</td>\n",
       "      <td>False</td>\n",
       "      <td>False</td>\n",
       "      <td>False</td>\n",
       "      <td>False</td>\n",
       "      <td>False</td>\n",
       "      <td>False</td>\n",
       "      <td>True</td>\n",
       "      <td>False</td>\n",
       "    </tr>\n",
       "    <tr>\n",
       "      <th>4</th>\n",
       "      <td>0</td>\n",
       "      <td>0</td>\n",
       "      <td>2.33</td>\n",
       "      <td>1</td>\n",
       "      <td>5955</td>\n",
       "      <td>False</td>\n",
       "      <td>False</td>\n",
       "      <td>False</td>\n",
       "      <td>False</td>\n",
       "      <td>False</td>\n",
       "      <td>...</td>\n",
       "      <td>False</td>\n",
       "      <td>False</td>\n",
       "      <td>True</td>\n",
       "      <td>False</td>\n",
       "      <td>False</td>\n",
       "      <td>False</td>\n",
       "      <td>False</td>\n",
       "      <td>False</td>\n",
       "      <td>True</td>\n",
       "      <td>False</td>\n",
       "    </tr>\n",
       "    <tr>\n",
       "      <th>...</th>\n",
       "      <td>...</td>\n",
       "      <td>...</td>\n",
       "      <td>...</td>\n",
       "      <td>...</td>\n",
       "      <td>...</td>\n",
       "      <td>...</td>\n",
       "      <td>...</td>\n",
       "      <td>...</td>\n",
       "      <td>...</td>\n",
       "      <td>...</td>\n",
       "      <td>...</td>\n",
       "      <td>...</td>\n",
       "      <td>...</td>\n",
       "      <td>...</td>\n",
       "      <td>...</td>\n",
       "      <td>...</td>\n",
       "      <td>...</td>\n",
       "      <td>...</td>\n",
       "      <td>...</td>\n",
       "      <td>...</td>\n",
       "      <td>...</td>\n",
       "    </tr>\n",
       "    <tr>\n",
       "      <th>300148</th>\n",
       "      <td>1</td>\n",
       "      <td>1</td>\n",
       "      <td>10.08</td>\n",
       "      <td>49</td>\n",
       "      <td>69265</td>\n",
       "      <td>False</td>\n",
       "      <td>False</td>\n",
       "      <td>False</td>\n",
       "      <td>False</td>\n",
       "      <td>False</td>\n",
       "      <td>...</td>\n",
       "      <td>True</td>\n",
       "      <td>False</td>\n",
       "      <td>False</td>\n",
       "      <td>False</td>\n",
       "      <td>False</td>\n",
       "      <td>False</td>\n",
       "      <td>False</td>\n",
       "      <td>False</td>\n",
       "      <td>True</td>\n",
       "      <td>False</td>\n",
       "    </tr>\n",
       "    <tr>\n",
       "      <th>300149</th>\n",
       "      <td>1</td>\n",
       "      <td>1</td>\n",
       "      <td>10.42</td>\n",
       "      <td>49</td>\n",
       "      <td>77105</td>\n",
       "      <td>False</td>\n",
       "      <td>False</td>\n",
       "      <td>False</td>\n",
       "      <td>False</td>\n",
       "      <td>False</td>\n",
       "      <td>...</td>\n",
       "      <td>False</td>\n",
       "      <td>False</td>\n",
       "      <td>False</td>\n",
       "      <td>True</td>\n",
       "      <td>True</td>\n",
       "      <td>False</td>\n",
       "      <td>False</td>\n",
       "      <td>False</td>\n",
       "      <td>False</td>\n",
       "      <td>False</td>\n",
       "    </tr>\n",
       "    <tr>\n",
       "      <th>300150</th>\n",
       "      <td>1</td>\n",
       "      <td>1</td>\n",
       "      <td>13.83</td>\n",
       "      <td>49</td>\n",
       "      <td>79099</td>\n",
       "      <td>False</td>\n",
       "      <td>False</td>\n",
       "      <td>False</td>\n",
       "      <td>False</td>\n",
       "      <td>False</td>\n",
       "      <td>...</td>\n",
       "      <td>False</td>\n",
       "      <td>False</td>\n",
       "      <td>False</td>\n",
       "      <td>True</td>\n",
       "      <td>False</td>\n",
       "      <td>True</td>\n",
       "      <td>False</td>\n",
       "      <td>False</td>\n",
       "      <td>False</td>\n",
       "      <td>False</td>\n",
       "    </tr>\n",
       "    <tr>\n",
       "      <th>300151</th>\n",
       "      <td>1</td>\n",
       "      <td>1</td>\n",
       "      <td>10.00</td>\n",
       "      <td>49</td>\n",
       "      <td>81585</td>\n",
       "      <td>False</td>\n",
       "      <td>False</td>\n",
       "      <td>False</td>\n",
       "      <td>False</td>\n",
       "      <td>False</td>\n",
       "      <td>...</td>\n",
       "      <td>True</td>\n",
       "      <td>False</td>\n",
       "      <td>False</td>\n",
       "      <td>False</td>\n",
       "      <td>False</td>\n",
       "      <td>True</td>\n",
       "      <td>False</td>\n",
       "      <td>False</td>\n",
       "      <td>False</td>\n",
       "      <td>False</td>\n",
       "    </tr>\n",
       "    <tr>\n",
       "      <th>300152</th>\n",
       "      <td>1</td>\n",
       "      <td>1</td>\n",
       "      <td>10.08</td>\n",
       "      <td>49</td>\n",
       "      <td>81585</td>\n",
       "      <td>False</td>\n",
       "      <td>False</td>\n",
       "      <td>False</td>\n",
       "      <td>False</td>\n",
       "      <td>False</td>\n",
       "      <td>...</td>\n",
       "      <td>True</td>\n",
       "      <td>False</td>\n",
       "      <td>False</td>\n",
       "      <td>False</td>\n",
       "      <td>False</td>\n",
       "      <td>False</td>\n",
       "      <td>False</td>\n",
       "      <td>False</td>\n",
       "      <td>True</td>\n",
       "      <td>False</td>\n",
       "    </tr>\n",
       "  </tbody>\n",
       "</table>\n",
       "<p>300153 rows × 35 columns</p>\n",
       "</div>"
      ],
      "text/plain": [
       "        stops  class  duration  days_left  price  airline_AirAsia  \\\n",
       "0           0      0      2.17          1   5953            False   \n",
       "1           0      0      2.33          1   5953            False   \n",
       "2           0      0      2.17          1   5956             True   \n",
       "3           0      0      2.25          1   5955            False   \n",
       "4           0      0      2.33          1   5955            False   \n",
       "...       ...    ...       ...        ...    ...              ...   \n",
       "300148      1      1     10.08         49  69265            False   \n",
       "300149      1      1     10.42         49  77105            False   \n",
       "300150      1      1     13.83         49  79099            False   \n",
       "300151      1      1     10.00         49  81585            False   \n",
       "300152      1      1     10.08         49  81585            False   \n",
       "\n",
       "        airline_Air_India  airline_GO_FIRST  airline_Indigo  airline_SpiceJet  \\\n",
       "0                   False             False           False              True   \n",
       "1                   False             False           False              True   \n",
       "2                   False             False           False             False   \n",
       "3                   False             False           False             False   \n",
       "4                   False             False           False             False   \n",
       "...                   ...               ...             ...               ...   \n",
       "300148              False             False           False             False   \n",
       "300149              False             False           False             False   \n",
       "300150              False             False           False             False   \n",
       "300151              False             False           False             False   \n",
       "300152              False             False           False             False   \n",
       "\n",
       "        ...  arrival_Evening  arrival_Late_Night  arrival_Morning  \\\n",
       "0       ...            False               False            False   \n",
       "1       ...            False               False             True   \n",
       "2       ...            False               False            False   \n",
       "3       ...            False               False            False   \n",
       "4       ...            False               False             True   \n",
       "...     ...              ...                 ...              ...   \n",
       "300148  ...             True               False            False   \n",
       "300149  ...            False               False            False   \n",
       "300150  ...            False               False            False   \n",
       "300151  ...             True               False            False   \n",
       "300152  ...             True               False            False   \n",
       "\n",
       "        arrival_Night  departure_Afternoon  departure_Early_Morning  \\\n",
       "0                True                False                    False   \n",
       "1               False                False                     True   \n",
       "2               False                False                     True   \n",
       "3               False                False                    False   \n",
       "4               False                False                    False   \n",
       "...               ...                  ...                      ...   \n",
       "300148          False                False                    False   \n",
       "300149           True                 True                    False   \n",
       "300150           True                False                     True   \n",
       "300151          False                False                     True   \n",
       "300152          False                False                    False   \n",
       "\n",
       "        departure_Evening  departure_Late_Night  departure_Morning  \\\n",
       "0                    True                 False              False   \n",
       "1                   False                 False              False   \n",
       "2                   False                 False              False   \n",
       "3                   False                 False               True   \n",
       "4                   False                 False               True   \n",
       "...                   ...                   ...                ...   \n",
       "300148              False                 False               True   \n",
       "300149              False                 False              False   \n",
       "300150              False                 False              False   \n",
       "300151              False                 False              False   \n",
       "300152              False                 False               True   \n",
       "\n",
       "        departure_Night  \n",
       "0                 False  \n",
       "1                 False  \n",
       "2                 False  \n",
       "3                 False  \n",
       "4                 False  \n",
       "...                 ...  \n",
       "300148            False  \n",
       "300149            False  \n",
       "300150            False  \n",
       "300151            False  \n",
       "300152            False  \n",
       "\n",
       "[300153 rows x 35 columns]"
      ]
     },
     "execution_count": 10,
     "metadata": {},
     "output_type": "execute_result"
    }
   ],
   "source": [
    "df"
   ]
  },
  {
   "cell_type": "markdown",
   "id": "c1df9485-bbc5-403c-883a-3eafcab7fbd0",
   "metadata": {
    "tags": []
   },
   "source": [
    "## Training Regression Model"
   ]
  },
  {
   "cell_type": "code",
   "execution_count": 11,
   "id": "1c8d57b1-53a7-43de-85d4-1908b0dd5308",
   "metadata": {
    "tags": []
   },
   "outputs": [],
   "source": [
    "from sklearn.model_selection import train_test_split # split into testing and training sets\n",
    "from sklearn.ensemble import RandomForestRegressor\n",
    "\n",
    "X, y = df.drop('price', axis=1), df.price"
   ]
  },
  {
   "cell_type": "markdown",
   "id": "b3e34067-fb06-44e3-bb57-d4508df85e81",
   "metadata": {},
   "source": [
    "X: df with all feature columns except 'price' that is used to predict target variable  \n",
    "y: target variable that is to be predicted"
   ]
  },
  {
   "cell_type": "code",
   "execution_count": 12,
   "id": "0ca4d16a-7c48-4636-b857-075f8be00790",
   "metadata": {
    "tags": []
   },
   "outputs": [],
   "source": [
    "X_train, X_test, y_train, y_test = train_test_split(X, y, test_size=0.2)"
   ]
  },
  {
   "cell_type": "markdown",
   "id": "7e5ae6ed-8453-4ed3-a128-507f1573a251",
   "metadata": {},
   "source": [
    "train_test_split splits into random training and testing subsets.  \n",
    "20% of data is for testing, 80% for training."
   ]
  },
  {
   "cell_type": "markdown",
   "id": "1ec95a8c-aa5b-4792-977c-6994e74d6e4d",
   "metadata": {},
   "source": [
    "### Random Forest Regressor Model"
   ]
  },
  {
   "cell_type": "code",
   "execution_count": 26,
   "id": "1f5491fa-7ce4-476f-8eea-bdac8d4c99ea",
   "metadata": {
    "tags": []
   },
   "outputs": [
    {
     "data": {
      "text/html": [
       "<style>#sk-container-id-2 {color: black;}#sk-container-id-2 pre{padding: 0;}#sk-container-id-2 div.sk-toggleable {background-color: white;}#sk-container-id-2 label.sk-toggleable__label {cursor: pointer;display: block;width: 100%;margin-bottom: 0;padding: 0.3em;box-sizing: border-box;text-align: center;}#sk-container-id-2 label.sk-toggleable__label-arrow:before {content: \"▸\";float: left;margin-right: 0.25em;color: #696969;}#sk-container-id-2 label.sk-toggleable__label-arrow:hover:before {color: black;}#sk-container-id-2 div.sk-estimator:hover label.sk-toggleable__label-arrow:before {color: black;}#sk-container-id-2 div.sk-toggleable__content {max-height: 0;max-width: 0;overflow: hidden;text-align: left;background-color: #f0f8ff;}#sk-container-id-2 div.sk-toggleable__content pre {margin: 0.2em;color: black;border-radius: 0.25em;background-color: #f0f8ff;}#sk-container-id-2 input.sk-toggleable__control:checked~div.sk-toggleable__content {max-height: 200px;max-width: 100%;overflow: auto;}#sk-container-id-2 input.sk-toggleable__control:checked~label.sk-toggleable__label-arrow:before {content: \"▾\";}#sk-container-id-2 div.sk-estimator input.sk-toggleable__control:checked~label.sk-toggleable__label {background-color: #d4ebff;}#sk-container-id-2 div.sk-label input.sk-toggleable__control:checked~label.sk-toggleable__label {background-color: #d4ebff;}#sk-container-id-2 input.sk-hidden--visually {border: 0;clip: rect(1px 1px 1px 1px);clip: rect(1px, 1px, 1px, 1px);height: 1px;margin: -1px;overflow: hidden;padding: 0;position: absolute;width: 1px;}#sk-container-id-2 div.sk-estimator {font-family: monospace;background-color: #f0f8ff;border: 1px dotted black;border-radius: 0.25em;box-sizing: border-box;margin-bottom: 0.5em;}#sk-container-id-2 div.sk-estimator:hover {background-color: #d4ebff;}#sk-container-id-2 div.sk-parallel-item::after {content: \"\";width: 100%;border-bottom: 1px solid gray;flex-grow: 1;}#sk-container-id-2 div.sk-label:hover label.sk-toggleable__label {background-color: #d4ebff;}#sk-container-id-2 div.sk-serial::before {content: \"\";position: absolute;border-left: 1px solid gray;box-sizing: border-box;top: 0;bottom: 0;left: 50%;z-index: 0;}#sk-container-id-2 div.sk-serial {display: flex;flex-direction: column;align-items: center;background-color: white;padding-right: 0.2em;padding-left: 0.2em;position: relative;}#sk-container-id-2 div.sk-item {position: relative;z-index: 1;}#sk-container-id-2 div.sk-parallel {display: flex;align-items: stretch;justify-content: center;background-color: white;position: relative;}#sk-container-id-2 div.sk-item::before, #sk-container-id-2 div.sk-parallel-item::before {content: \"\";position: absolute;border-left: 1px solid gray;box-sizing: border-box;top: 0;bottom: 0;left: 50%;z-index: -1;}#sk-container-id-2 div.sk-parallel-item {display: flex;flex-direction: column;z-index: 1;position: relative;background-color: white;}#sk-container-id-2 div.sk-parallel-item:first-child::after {align-self: flex-end;width: 50%;}#sk-container-id-2 div.sk-parallel-item:last-child::after {align-self: flex-start;width: 50%;}#sk-container-id-2 div.sk-parallel-item:only-child::after {width: 0;}#sk-container-id-2 div.sk-dashed-wrapped {border: 1px dashed gray;margin: 0 0.4em 0.5em 0.4em;box-sizing: border-box;padding-bottom: 0.4em;background-color: white;}#sk-container-id-2 div.sk-label label {font-family: monospace;font-weight: bold;display: inline-block;line-height: 1.2em;}#sk-container-id-2 div.sk-label-container {text-align: center;}#sk-container-id-2 div.sk-container {/* jupyter's `normalize.less` sets `[hidden] { display: none; }` but bootstrap.min.css set `[hidden] { display: none !important; }` so we also need the `!important` here to be able to override the default hidden behavior on the sphinx rendered scikit-learn.org. See: https://github.com/scikit-learn/scikit-learn/issues/21755 */display: inline-block !important;position: relative;}#sk-container-id-2 div.sk-text-repr-fallback {display: none;}</style><div id=\"sk-container-id-2\" class=\"sk-top-container\"><div class=\"sk-text-repr-fallback\"><pre>RandomForestRegressor(n_jobs=-1)</pre><b>In a Jupyter environment, please rerun this cell to show the HTML representation or trust the notebook. <br />On GitHub, the HTML representation is unable to render, please try loading this page with nbviewer.org.</b></div><div class=\"sk-container\" hidden><div class=\"sk-item\"><div class=\"sk-estimator sk-toggleable\"><input class=\"sk-toggleable__control sk-hidden--visually\" id=\"sk-estimator-id-2\" type=\"checkbox\" checked><label for=\"sk-estimator-id-2\" class=\"sk-toggleable__label sk-toggleable__label-arrow\">RandomForestRegressor</label><div class=\"sk-toggleable__content\"><pre>RandomForestRegressor(n_jobs=-1)</pre></div></div></div></div></div>"
      ],
      "text/plain": [
       "RandomForestRegressor(n_jobs=-1)"
      ]
     },
     "execution_count": 26,
     "metadata": {},
     "output_type": "execute_result"
    }
   ],
   "source": [
    "reg_default = RandomForestRegressor(n_jobs=-1) # speed up computation by using all CPU cores\n",
    "\n",
    "reg_default.fit(X_train, y_train) # trains the model"
   ]
  },
  {
   "cell_type": "code",
   "execution_count": 27,
   "id": "578ef663-3c89-4318-b578-f03f73c68d00",
   "metadata": {
    "tags": []
   },
   "outputs": [
    {
     "data": {
      "text/plain": [
       "0.9848216894152774"
      ]
     },
     "execution_count": 27,
     "metadata": {},
     "output_type": "execute_result"
    }
   ],
   "source": [
    "reg_default.score(X_test, y_test) # R^2 value: accuracy from 0-1"
   ]
  },
  {
   "cell_type": "code",
   "execution_count": 29,
   "id": "62f8bf28-e638-42f7-b361-2fdb0c4d8133",
   "metadata": {
    "tags": []
   },
   "outputs": [
    {
     "name": "stdout",
     "output_type": "stream",
     "text": [
      "R2: 0.9848307118904118\n",
      "MAE: 1078.1181430664142\n",
      "MSE: 7807819.1274465965\n",
      "RMSE: 2794.2475064758664\n"
     ]
    }
   ],
   "source": [
    "import math\n",
    "from sklearn.metrics import mean_absolute_error, mean_squared_error, r2_score\n",
    "\n",
    "y_pred_default = reg_default.predict(X_test) # generates prediction for X_test\n",
    "\n",
    "r2_default = r2_score(y_test, y_pred) # calculates r2 score fom how well y_pred is to test values y_test\n",
    "MAE_default = mean_absolute_error(y_test, y_pred)\n",
    "MSE_default = mean_squared_error(y_test, y_pred)\n",
    "RMSE_default = math.sqrt(MSE_default)\n",
    "\n",
    "print('R2:', r2_default)\n",
    "print('MAE:', MAE_default)\n",
    "print('MSE:', MSE_default)\n",
    "print('RMSE:', RMSE_default)"
   ]
  },
  {
   "cell_type": "code",
   "execution_count": 30,
   "id": "96148fd1-641b-4e56-aa16-8d3e81d8b4ff",
   "metadata": {
    "tags": []
   },
   "outputs": [
    {
     "data": {
      "text/plain": [
       "Text(0.5, 1.0, 'Prediction vs Actual Price')"
      ]
     },
     "execution_count": 30,
     "metadata": {},
     "output_type": "execute_result"
    },
    {
     "data": {
      "image/png": "[encoded data removed]",
      "text/plain": [
       "<Figure size 640x480 with 1 Axes>"
      ]
     },
     "metadata": {},
     "output_type": "display_data"
    }
   ],
   "source": [
    "import matplotlib.pyplot as plt\n",
    "\n",
    "plt.scatter(y_test, y_pred)\n",
    "plt.xlabel('Actual Flight Price')\n",
    "plt.ylabel('Predicted Flight Price')\n",
    "plt.title('Prediction vs Actual Price')"
   ]
  },
  {
   "cell_type": "markdown",
   "id": "ef1d9431-ff25-49e6-98b0-1f8212866c94",
   "metadata": {},
   "source": [
    "As seen from the margin of errors and scatterplot, we can see that using a Random Forest Regressor is already pretty accurate. Let's see if we can fine tune it even more."
   ]
  },
  {
   "cell_type": "code",
   "execution_count": 17,
   "id": "f336ddce-55c9-4fc8-99e9-e9b6ef432032",
   "metadata": {
    "tags": []
   },
   "outputs": [
    {
     "data": {
      "text/plain": [
       "count    300153.000000\n",
       "mean      20889.660523\n",
       "std       22697.767366\n",
       "min        1105.000000\n",
       "25%        4783.000000\n",
       "50%        7425.000000\n",
       "75%       42521.000000\n",
       "max      123071.000000\n",
       "Name: price, dtype: float64"
      ]
     },
     "execution_count": 17,
     "metadata": {},
     "output_type": "execute_result"
    }
   ],
   "source": [
    "df.price.describe()"
   ]
  },
  {
   "cell_type": "markdown",
   "id": "8fa2f7ad-b14b-4314-94ba-e7737f7092f2",
   "metadata": {},
   "source": [
    "### Feature Importances"
   ]
  },
  {
   "cell_type": "markdown",
   "id": "ad5df3e6-589f-4390-ac4d-1f2739d3f6fc",
   "metadata": {},
   "source": [
    "Here, I ranked the features based on their level of influence to the model. The features are sorted from most to least important."
   ]
  },
  {
   "cell_type": "code",
   "execution_count": 32,
   "id": "523faa0e-1505-46b2-bdab-e9d005f2f5d9",
   "metadata": {
    "tags": []
   },
   "outputs": [
    {
     "data": {
      "text/plain": [
       "[('class', 0.8800698221870147),\n",
       " ('duration', 0.05728848178298755),\n",
       " ('days_left', 0.018488553800000744),\n",
       " ('airline_Vistara', 0.005308111311561867),\n",
       " ('airline_Air_India', 0.00465215905523993),\n",
       " ('source_Delhi', 0.0038380140382419862),\n",
       " ('dest_Delhi', 0.003257822070567555),\n",
       " ('source_Mumbai', 0.0021295607172942903),\n",
       " ('stops', 0.0018792389410269479),\n",
       " ('dest_Mumbai', 0.0018527486729841135),\n",
       " ('dest_Kolkata', 0.0018439269520477526),\n",
       " ('source_Kolkata', 0.001834675902886905),\n",
       " ('arrival_Evening', 0.0015695141184535863),\n",
       " ('dest_Hyderabad', 0.0015285090650493237),\n",
       " ('dest_Bangalore', 0.0012836430248982207),\n",
       " ('source_Hyderabad', 0.0012648541962122057),\n",
       " ('arrival_Night', 0.0011606979254879155),\n",
       " ('source_Bangalore', 0.0011147413571118492),\n",
       " ('departure_Evening', 0.0011142611785396213),\n",
       " ('arrival_Afternoon', 0.0009973554153988478),\n",
       " ('source_Chennai', 0.000952703600255867),\n",
       " ('dest_Chennai', 0.0009241268591607294),\n",
       " ('departure_Morning', 0.0009119156956063119),\n",
       " ('departure_Afternoon', 0.0008206930495812873),\n",
       " ('departure_Early_Morning', 0.0008141205555424741),\n",
       " ('departure_Night', 0.0007833185871055286),\n",
       " ('arrival_Morning', 0.0006537956771643393),\n",
       " ('arrival_Early_Morning', 0.000573168048822776),\n",
       " ('airline_AirAsia', 0.00044743683559852576),\n",
       " ('airline_Indigo', 0.0003204081302186833),\n",
       " ('arrival_Late_Night', 0.0001384016409395296),\n",
       " ('airline_GO_FIRST', 7.53378036843823e-05),\n",
       " ('departure_Late_Night', 5.615473810347415e-05),\n",
       " ('airline_SpiceJet', 5.172706521035478e-05)]"
      ]
     },
     "execution_count": 32,
     "metadata": {},
     "output_type": "execute_result"
    }
   ],
   "source": [
    "importances = dict(zip(reg_default.feature_names_in_, reg_default.feature_importances_))\n",
    "sorted_importances = sorted(importances.items(), key=lambda x: x[1], reverse=True)\n",
    "\n",
    "sorted_importances # prints out which features are the most influential in the model"
   ]
  },
  {
   "cell_type": "code",
   "execution_count": 33,
   "id": "f52c81cc-22c6-4d81-afa2-a91da49de112",
   "metadata": {
    "tags": []
   },
   "outputs": [
    {
     "data": {
      "text/plain": [
       "<BarContainer object of 10 artists>"
      ]
     },
     "execution_count": 33,
     "metadata": {},
     "output_type": "execute_result"
    },
    {
     "data": {
      "image/png": "[encoded data removed]",
      "text/plain": [
       "<Figure size 1500x600 with 1 Axes>"
      ]
     },
     "metadata": {},
     "output_type": "display_data"
    }
   ],
   "source": [
    "plt.figure(figsize=(15, 6))\n",
    "plt.bar([x[0] for x in sorted_importances[:10]], [x[1] for x in sorted_importances[:10]])"
   ]
  },
  {
   "cell_type": "markdown",
   "id": "cdb59519-1e33-4f8a-82bb-6aa756255fad",
   "metadata": {},
   "source": [
    "Most important feature is class, followed by duration and days left. Airlines do not really matter in this case."
   ]
  },
  {
   "cell_type": "markdown",
   "id": "a8441ace-37c6-4048-8179-a0c2505e7c11",
   "metadata": {},
   "source": [
    "## Finetuning Regression Model Using Parameter Tuning"
   ]
  },
  {
   "cell_type": "markdown",
   "id": "8d95bf9d-2c01-4bf0-acf9-08ed84657129",
   "metadata": {},
   "source": [
    "### GridSearchCV Model"
   ]
  },
  {
   "cell_type": "markdown",
   "id": "3b7279f7-3939-4299-a276-64446e51f293",
   "metadata": {},
   "source": [
    "Can use grid search, but would take too long with too many combos."
   ]
  },
  {
   "cell_type": "code",
   "execution_count": null,
   "id": "e2e1ecd5-c1f4-4aa2-9eb1-afcf21903975",
   "metadata": {
    "tags": []
   },
   "outputs": [],
   "source": [
    "# from sklearn.model_selection import GridSearchCV\n",
    "\n",
    "# reg = RandomForestRegressor(n_jobs=-1)\n",
    "\n",
    "# param_grid = {\n",
    "#     'n_estimators': [100, 200, 300],\n",
    "#     'max_depth': [None, 10, 20, 30],\n",
    "#     'min_samples_split': [2, 5, 10],\n",
    "#     'min_samples_leaf': [1, 2, 4],\n",
    "#     'max_features': ['auto', 'sqrt']\n",
    "# }\n",
    "\n",
    "# grid_search = GridSearchCV(reg, param_grid, cv=5)\n",
    "# grid_search.fit(X_train, y_train)\n",
    "\n",
    "# best_params = grid_search.best_params_"
   ]
  },
  {
   "cell_type": "markdown",
   "id": "5f7e46ad-4bb6-408a-ae8f-79d0c7766f25",
   "metadata": {},
   "source": [
    "### RandomizedSearchCV Model"
   ]
  },
  {
   "cell_type": "markdown",
   "id": "e43e90ec-a054-4bdb-86bd-98341b7ff6a0",
   "metadata": {
    "tags": []
   },
   "source": [
    "Use randomized search to minimize runtime."
   ]
  },
  {
   "cell_type": "code",
   "execution_count": 35,
   "id": "a3c62c98-a8d0-4155-adf5-f6feb844ebbf",
   "metadata": {
    "tags": []
   },
   "outputs": [
    {
     "name": "stdout",
     "output_type": "stream",
     "text": [
      "Fitting 3 folds for each of 2 candidates, totalling 6 fits\n"
     ]
    }
   ],
   "source": [
    "from sklearn.model_selection import RandomizedSearchCV\n",
    "from scipy.stats import randint\n",
    "\n",
    "param_dist = {\n",
    "    'n_estimators': randint(100, 300),\n",
    "    'max_depth': [None, 10, 20, 30, 40, 50],\n",
    "    'min_samples_split': randint(2, 11),\n",
    "    'min_samples_leaf': randint(1, 5),\n",
    "    'max_features': [1.0, 'sqrt', 'log2']\n",
    "}\n",
    "\n",
    "reg = RandomForestRegressor(n_jobs=-1)\n",
    "\n",
    "random_search = RandomizedSearchCV(estimator=reg, param_distributions=param_dist, n_iter=2, cv=3,\n",
    "                                   scoring='neg_mean_squared_error', verbose=2, random_state=10, n_jobs=-1)\n",
    "\n",
    "random_search.fit(X_train, y_train)\n",
    "\n",
    "best_regressor = random_search.best_estimator_"
   ]
  },
  {
   "cell_type": "code",
   "execution_count": 24,
   "id": "3da8c645-a3f2-465f-800a-b3f6c17ac12c",
   "metadata": {
    "tags": []
   },
   "outputs": [
    {
     "data": {
      "text/plain": [
       "0.9859371143064607"
      ]
     },
     "execution_count": 24,
     "metadata": {},
     "output_type": "execute_result"
    }
   ],
   "source": [
    "best_regressor.score(X_test, y_test)"
   ]
  },
  {
   "cell_type": "markdown",
   "id": "1acc5d1e-b2a1-4f66-8e15-1c196c312b3a",
   "metadata": {},
   "source": [
    "This is the R^2 value, which represents the goodness of fit and accuracy of the regression model. It's slightly higher than before!"
   ]
  },
  {
   "cell_type": "code",
   "execution_count": 37,
   "id": "74119262-150e-4673-b1c6-6d11abfc9c29",
   "metadata": {
    "tags": []
   },
   "outputs": [
    {
     "name": "stdout",
     "output_type": "stream",
     "text": [
      "R2: 0.9859111598118723\n",
      "MAE: 1089.279047802281\n",
      "MSE: 7251699.295952555\n",
      "RMSE: 2692.897936415815\n"
     ]
    }
   ],
   "source": [
    "y_pred_tuned = best_regressor.predict(X_test)\n",
    "r2_tuned = r2_score(y_test, y_pred_tuned)\n",
    "MAE_tuned = mean_absolute_error(y_test, y_pred_tuned)\n",
    "MSE_tuned = mean_squared_error(y_test, y_pred_tuned)\n",
    "RMSE_tuned = math.sqrt(MSE_tuned)\n",
    "\n",
    "print('R2:', r2_tuned)\n",
    "print('MAE:', MAE_tuned)\n",
    "print('MSE:', MSE_tuned)\n",
    "print('RMSE:', RMSE_tuned)"
   ]
  },
  {
   "cell_type": "code",
   "execution_count": 38,
   "id": "68c76d6e-4545-4b85-8a0b-4b257e2d7698",
   "metadata": {
    "tags": []
   },
   "outputs": [
    {
     "data": {
      "text/plain": [
       "Text(0.5, 1.0, 'Prediction vs Actual Price')"
      ]
     },
     "execution_count": 38,
     "metadata": {},
     "output_type": "execute_result"
    },
    {
     "data": {
      "image/png": "[encoded data removed]",
      "text/plain": [
       "<Figure size 640x480 with 1 Axes>"
      ]
     },
     "metadata": {},
     "output_type": "display_data"
    }
   ],
   "source": [
    "import matplotlib.pyplot as plt\n",
    "\n",
    "plt.scatter(y_test, y_pred)\n",
    "plt.xlabel('Actual Flight Price')\n",
    "plt.ylabel('Predicted Flight Price')\n",
    "plt.title('Prediction vs Actual Price')"
   ]
  },
  {
   "cell_type": "markdown",
   "id": "0d4218bb-1ebc-4897-a527-e24b704d4310",
   "metadata": {},
   "source": [
    "## Analyzing Prediction Results"
   ]
  },
  {
   "cell_type": "markdown",
   "id": "4ac75344-c387-439e-8fcb-cf886686c1f6",
   "metadata": {},
   "source": [
    "### Default Model (Random Forest Regressor)"
   ]
  },
  {
   "cell_type": "code",
   "execution_count": 39,
   "id": "5152affb-d6c2-4b9c-be88-18f675a2eb43",
   "metadata": {
    "tags": []
   },
   "outputs": [
    {
     "name": "stdout",
     "output_type": "stream",
     "text": [
      "R2: 0.9848307118904118\n",
      "MAE: 1078.1181430664142\n",
      "MSE: 7807819.1274465965\n",
      "RMSE: 2794.2475064758664\n"
     ]
    }
   ],
   "source": [
    "print('R2:', r2_default)\n",
    "print('MAE:', MAE_default)\n",
    "print('MSE:', MSE_default)\n",
    "print('RMSE:', RMSE_default)"
   ]
  },
  {
   "cell_type": "markdown",
   "id": "22d2039d-d41f-4db1-8035-e492f490e855",
   "metadata": {},
   "source": [
    "### Tuned Model (Randomized Search)"
   ]
  },
  {
   "cell_type": "code",
   "execution_count": 40,
   "id": "f35d485c-57d9-4a8b-88fa-a275e7bf32f5",
   "metadata": {
    "tags": []
   },
   "outputs": [
    {
     "name": "stdout",
     "output_type": "stream",
     "text": [
      "R2: 0.9859111598118723\n",
      "MAE: 1089.279047802281\n",
      "MSE: 7251699.295952555\n",
      "RMSE: 2692.897936415815\n"
     ]
    }
   ],
   "source": [
    "print('R2:', r2_tuned)\n",
    "print('MAE:', MAE_tuned)\n",
    "print('MSE:', MSE_tuned)\n",
    "print('RMSE:', RMSE_tuned)"
   ]
  },
  {
   "cell_type": "markdown",
   "id": "75ff7865-874e-41b0-b1ed-4577afc48d49",
   "metadata": {},
   "source": [
    "### Default vs Tuned Model Accuracies"
   ]
  },
  {
   "cell_type": "markdown",
   "id": "eb8d8630-7693-43a5-8d86-775bdc3ead08",
   "metadata": {},
   "source": [
    "Put in a data frame the margin errors of the random forest regressor vs randomized search models to compare."
   ]
  },
  {
   "cell_type": "code",
   "execution_count": 53,
   "id": "8a53a830-34d4-44f6-8ddc-2521c1c084c6",
   "metadata": {
    "tags": []
   },
   "outputs": [],
   "source": [
    "summary_data = {\n",
    "    'Metric': ['R^2', 'Mean Absolute Error', 'Mean Squared Error', 'Root Mean Squared Error'],\n",
    "    'Default Model': [r2_default, MAE_default, MSE_default, RMSE_default],\n",
    "    'Tuned Model': [r2_tuned, MAE_tuned, MSE_tuned, RMSE_tuned]\n",
    "}\n",
    "\n",
    "summary_df = pd.DataFrame(summary_data)"
   ]
  },
  {
   "cell_type": "code",
   "execution_count": 55,
   "id": "3e2f66e0-c191-4308-b1f3-f7337e0068d5",
   "metadata": {
    "tags": []
   },
   "outputs": [
    {
     "data": {
      "text/html": [
       "<div>\n",
       "<style scoped>\n",
       "    .dataframe tbody tr th:only-of-type {\n",
       "        vertical-align: middle;\n",
       "    }\n",
       "\n",
       "    .dataframe tbody tr th {\n",
       "        vertical-align: top;\n",
       "    }\n",
       "\n",
       "    .dataframe thead th {\n",
       "        text-align: right;\n",
       "    }\n",
       "</style>\n",
       "<table border=\"1\" class=\"dataframe\">\n",
       "  <thead>\n",
       "    <tr style=\"text-align: right;\">\n",
       "      <th></th>\n",
       "      <th>Metric</th>\n",
       "      <th>Default Model</th>\n",
       "      <th>Tuned Model</th>\n",
       "    </tr>\n",
       "  </thead>\n",
       "  <tbody>\n",
       "    <tr>\n",
       "      <th>0</th>\n",
       "      <td>R^2</td>\n",
       "      <td>9.848307e-01</td>\n",
       "      <td>9.859112e-01</td>\n",
       "    </tr>\n",
       "    <tr>\n",
       "      <th>1</th>\n",
       "      <td>Mean Absolute Error</td>\n",
       "      <td>1.078118e+03</td>\n",
       "      <td>1.089279e+03</td>\n",
       "    </tr>\n",
       "    <tr>\n",
       "      <th>2</th>\n",
       "      <td>Mean Squared Error</td>\n",
       "      <td>7.807819e+06</td>\n",
       "      <td>7.251699e+06</td>\n",
       "    </tr>\n",
       "    <tr>\n",
       "      <th>3</th>\n",
       "      <td>Root Mean Squared Error</td>\n",
       "      <td>2.794248e+03</td>\n",
       "      <td>2.692898e+03</td>\n",
       "    </tr>\n",
       "  </tbody>\n",
       "</table>\n",
       "</div>"
      ],
      "text/plain": [
       "                    Metric  Default Model   Tuned Model\n",
       "0                      R^2   9.848307e-01  9.859112e-01\n",
       "1      Mean Absolute Error   1.078118e+03  1.089279e+03\n",
       "2       Mean Squared Error   7.807819e+06  7.251699e+06\n",
       "3  Root Mean Squared Error   2.794248e+03  2.692898e+03"
      ]
     },
     "execution_count": 55,
     "metadata": {},
     "output_type": "execute_result"
    }
   ],
   "source": [
    "summary_df"
   ]
  },
  {
   "cell_type": "markdown",
   "id": "66c36f70-a287-46f6-bcc2-4c741bb7dff9",
   "metadata": {},
   "source": [
    "The tuned model using RandomizedSearchCV is slightly more accurate, with a better R^2 (variance), mean squared error, and root mean squared error. The default model has a better mean absolute error, meaning the magnitude of its errors are smaller. Overall, the parameter tuning has enhanced some aspects of the model performance."
   ]
  },
  {
   "cell_type": "markdown",
   "id": "e5a26b15-ab81-4de8-9e5a-3c7c60cad58e",
   "metadata": {},
   "source": [
    "### Prediction vs Actual Price Scatterplot"
   ]
  },
  {
   "cell_type": "code",
   "execution_count": 56,
   "id": "a17a50dd-1270-4927-bfc5-fed790160d9d",
   "metadata": {
    "tags": []
   },
   "outputs": [
    {
     "data": {
      "text/plain": [
       "Text(0.5, 1.0, 'Prediction vs Actual Price')"
      ]
     },
     "execution_count": 56,
     "metadata": {},
     "output_type": "execute_result"
    },
    {
     "data": {
      "image/png": "[encoded data removed]",
      "text/plain": [
       "<Figure size 640x480 with 1 Axes>"
      ]
     },
     "metadata": {},
     "output_type": "display_data"
    }
   ],
   "source": [
    "import matplotlib.pyplot as plt\n",
    "\n",
    "plt.scatter(y_test, y_pred)\n",
    "plt.xlabel('Actual Flight Price')\n",
    "plt.ylabel('Predicted Flight Price')\n",
    "plt.title('Prediction vs Actual Price')"
   ]
  },
  {
   "cell_type": "markdown",
   "id": "3e6145a3-3f10-4518-b9a7-de8bec7192ba",
   "metadata": {},
   "source": [
    "Overall, the tuned model is pretty accurate in predicting the flight price, as the margin errors are miniscule. Looking at the feature importances, we can see that the most important feature is by far class, followed by duration and days left."
   ]
  }
 ],
 "metadata": {
  "kernelspec": {
   "display_name": "Python 3 (ipykernel)",
   "language": "python",
   "name": "python3"
  },
  "language_info": {
   "codemirror_mode": {
    "name": "ipython",
    "version": 3
   },
   "file_extension": ".py",
   "mimetype": "text/x-python",
   "name": "python",
   "nbconvert_exporter": "python",
   "pygments_lexer": "ipython3",
   "version": "3.11.5"
  }
 },
 "nbformat": 4,
 "nbformat_minor": 5
}
